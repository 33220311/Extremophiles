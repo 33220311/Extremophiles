{
  "nbformat": 4,
  "nbformat_minor": 0,
  "metadata": {
    "colab": {
      "name": "BioVec.ipynb",
      "provenance": [],
      "background_execution": "on"
    },
    "kernelspec": {
      "name": "python3",
      "display_name": "Python 3"
    },
    "language_info": {
      "name": "python"
    },
    "gpuClass": "standard"
  },
  "cells": [
    {
      "cell_type": "markdown",
      "source": [
        "## Prerequisite"
      ],
      "metadata": {
        "id": "VJPsCIcOL_ls"
      }
    },
    {
      "cell_type": "code",
      "source": [
        "!pip install biovec"
      ],
      "metadata": {
        "colab": {
          "base_uri": "https://localhost:8080/"
        },
        "id": "0AbdBwM3TpWd",
        "outputId": "f1a56ad8-e3da-4937-ffce-28a03689ca85"
      },
      "execution_count": 34,
      "outputs": [
        {
          "output_type": "stream",
          "name": "stdout",
          "text": [
            "Looking in indexes: https://pypi.org/simple, https://us-python.pkg.dev/colab-wheels/public/simple/\n",
            "Requirement already satisfied: biovec in /usr/local/lib/python3.7/dist-packages (0.2.7)\n",
            "Requirement already satisfied: pyfasta==0.5.2 in /usr/local/lib/python3.7/dist-packages (from biovec) (0.5.2)\n",
            "Requirement already satisfied: gensim==3.4.0 in /usr/local/lib/python3.7/dist-packages (from biovec) (3.4.0)\n",
            "Requirement already satisfied: tqdm>=2.0.0 in /usr/local/lib/python3.7/dist-packages (from biovec) (4.64.0)\n",
            "Requirement already satisfied: numpy>=1.11.3 in /usr/local/lib/python3.7/dist-packages (from gensim==3.4.0->biovec) (1.21.6)\n",
            "Requirement already satisfied: smart-open>=1.2.1 in /usr/local/lib/python3.7/dist-packages (from gensim==3.4.0->biovec) (5.2.1)\n",
            "Requirement already satisfied: scipy>=0.18.1 in /usr/local/lib/python3.7/dist-packages (from gensim==3.4.0->biovec) (1.4.1)\n",
            "Requirement already satisfied: six>=1.5.0 in /usr/local/lib/python3.7/dist-packages (from gensim==3.4.0->biovec) (1.15.0)\n"
          ]
        }
      ]
    },
    {
      "cell_type": "code",
      "source": [
        "import time\n",
        "import biovec\n",
        "#from Bio import SeqIO"
      ],
      "metadata": {
        "id": "d7bQExG4S7c-"
      },
      "execution_count": 35,
      "outputs": []
    },
    {
      "cell_type": "code",
      "execution_count": 67,
      "metadata": {
        "id": "vdQLVnlQLHpp"
      },
      "outputs": [],
      "source": [
        "import numpy as np \n",
        "import pandas as pd\n",
        "import re\n",
        "import tensorflow as tf\n",
        "from tensorflow.keras.preprocessing.text import Tokenizer\n",
        "from tensorflow.keras.preprocessing.sequence import pad_sequences\n",
        "import gensim\n",
        "import tensorflow.keras.layers as Layers\n",
        "from tensorflow.keras.models import Sequential, Model\n",
        "from tensorflow.keras.losses import SparseCategoricalCrossentropy\n",
        "from tensorflow.keras.optimizers import Adam\n",
        "\n",
        "from keras.layers import Input, Dense, Bidirectional, CuDNNLSTM, Dropout, Embedding, LSTM, GlobalMaxPooling1D, Bidirectional, SpatialDropout1D, Conv1D, Flatten\n",
        "from keras.regularizers import l2\n",
        "from sklearn.model_selection import train_test_split\n",
        "from sklearn.metrics import confusion_matrix\n",
        "from sklearn.metrics import classification_report\n",
        "import matplotlib.pyplot as plt"
      ]
    },
    {
      "cell_type": "markdown",
      "source": [
        "## Data Preparation"
      ],
      "metadata": {
        "id": "yKZH2BfbN03P"
      }
    },
    {
      "cell_type": "code",
      "source": [
        "!git clone https://github.com/33220311/Extremophiles\n",
        "trainFilePath = '/content/Extremophiles/linTrainTrunc.csv'\n",
        "testFilePath = '/content/Extremophiles/linTest.csv'"
      ],
      "metadata": {
        "colab": {
          "base_uri": "https://localhost:8080/"
        },
        "id": "Ro0LwuAAN3BX",
        "outputId": "468bda09-3eef-466d-ca02-c848c6b1ae36"
      },
      "execution_count": 37,
      "outputs": [
        {
          "output_type": "stream",
          "name": "stdout",
          "text": [
            "fatal: destination path 'Extremophiles' already exists and is not an empty directory.\n"
          ]
        }
      ]
    },
    {
      "cell_type": "code",
      "source": [
        "targets = []\n",
        "vectors = []"
      ],
      "metadata": {
        "id": "OfZVA722Tl5G"
      },
      "execution_count": 38,
      "outputs": []
    },
    {
      "cell_type": "code",
      "source": [
        "df = pd.read_csv(trainFilePath,names=['sequence','label'],skiprows=1)\n",
        "df_test = pd.read_csv(testFilePath,names=['seq','label'],skiprows=1)"
      ],
      "metadata": {
        "id": "eM0Ysx9dOET3"
      },
      "execution_count": 39,
      "outputs": []
    },
    {
      "cell_type": "code",
      "source": [
        "# Preview data\n",
        "print('Train Data: ')\n",
        "print(df.value_counts())\n",
        "print('Test Data: ')\n",
        "print(df_test.value_counts())\n",
        "print(df.head())"
      ],
      "metadata": {
        "colab": {
          "base_uri": "https://localhost:8080/"
        },
        "id": "HdQ7jUxPOome",
        "outputId": "e2ec1250-5509-439c-b2a2-6c34f8e8e57a"
      },
      "execution_count": 40,
      "outputs": [
        {
          "output_type": "stream",
          "name": "stdout",
          "text": [
            "Train Data: \n",
            "sequence                                                                                                                                                                                                                                                                                                                                                                              label\n",
            "AAKKTVTKADLVDQVAQATGLKKKDVKAMVDALLAKVEEALANGSKVQLTGFGTFEVRKRKARTGVKPGTKEKIKIPATQYPAFKPGKALKDKVKK                                                                                                                                                                                                                                                                                      1        1\n",
            "MRHYKTLRYYETVFAVKPTLSEEEMKKKFEQVKEFIKQKGGEILYEEDWGMRQLAYPIQKFNNARYFLVQFKTENPQLPNELDFQLKIDEDVIRWLNFQIKESEVKKNAQ                                                                                                                                                                                                                                                                        1        1\n",
            "MRGIRDPRLIPIAEKVMEGKRLSFEDGLVLYQTKDLPTLMRLANLVRERKHGHKTYFVHSIRVSQTNICYVGCTFCAFQRRFGEEGAWDWDVDEVVAWVKERYQPGLTEIHLTAGHHPKRPFAYYLDLVRALKENFPGVQVKAWTAAEIHHFSKIARLPYREVLKALKEAGLDAMPGGGAEIFAERVRRKIARAKVSAEGWLEIHRTAHELGIPTNATMLYGHIETLEERLDHMDRLRRLQDETGGFMSFIPLAFQPDGNQLARELGKKEFTTGLDDLRNLAVARLYLDNFPHIKGYWATLTPELAQVSLDWGVTDVDGTLIEERIVHMAGSPTPQGLTKRELARIILMAGRIPVERDALYREVRVWDRVEA  1        1\n",
            "MRGIVTIDGPSASGKSSVARRVAAALGVPYLSSGLLYRAAAFLALRAGVDPGDEEGLLALLEGLGVRLLAQAEGNRVLADGEDLTSFLHTPEVDRVVSAVARLPGVRAWVNRRLKEVPPPFVAEGRDMGTAVFPEAAHKFYLTASPEVRAWRRARERPQAYEEVLRDLLRRDERDKAQSAPAPDALVLDTGGMTLDEVVAWVLAHIRR                                                                                                                                                                      1        1\n",
            "MRGKVKWFDSKKGYGFITKDEGGDVFVHWSAIEMEGFKTLKEGQVVEFEIQEGKKGPQAAHVKVVE                                                                                                                                                                                                                                                                                                                    1        1\n",
            "                                                                                                                                                                                                                                                                                                                                                                                              ..\n",
            "MKDRKILNEILSNTINELNLNDKKANIKIKIKPLKRKIASISLTNKTIYINKNILPYLSDEEIRFILAHELLHLKYGKYHINEFEEELLFLFPNKEAILINLINKLHQKK                                                                                                                                                                                                                                                                        1        1\n",
            "MKDPKAPIGVFDSGVGGLTVLKALRRLLPREEFLYFGDTARVPYGGKPLAMVRRFAWEIAGFLLRQGVKAIVVACNTASSAALPDLAEDLSVPVFGVVEPAARAARGFRKVGLIGTQATVESGAYPRYVDLAWAKACPLFVPLVEEGLWDDPVALLVARHYLEDAPKDLEALILGCTHYPFLKGAIGAVLPGVALLDSAELTAQEVARALEAEGLLNPEGRGRTFHLVTGDPEAYRALAERLGERVEAVRRVSLEEL                                                                                                                     1        1\n",
            "MKDMNQTSLAVEPSRAVVGALWMVLAGIAFSLLNVVTQWLTMKLAFPSASAAFWQYGFAFLFSLPFLKRLGLAAMRTHYPWRHLTRVVLAALGVEAWVAGLAAVPIWQAIALVMTSPFFIILGARLFLGERVGPARWAATAAGFTGAMIILQPWSDGIGWAALLPVLSALLWGASSLITKSLTGIERPETITVWLLVLLTPINGGLALAAGFAVPTGATLALFLLAGLLTAVAQYFLTLAYAAADAAYVQPFDDLKLPLNVLAGWLFFGYAPAGYLWLGAALILSASLFIMRNEMRRERKPA                                                                        0        1\n",
            "MKDMGEDRPGIGHSTNLVGLPTDLLASAWFNQAAPEIHIAGVREMNRSLFEMLAEAPDLESAGEAFYKYMIAMFGLDPEQQDHRPGQGGAVRRFHASYLRLLKGWGYDTNAKEGAVLKGWVESRFGLFPTFHREPITKFASKAWITYIEEKMTSRFHNNSIYVQLDLMYEFCQWALARFAAPGESALLLYRGVNDFTEHQMIERIDNRQVVVRMNNLVSFSSDRGVADCFGDTILETRVPVSKIVFFNTLLTSHPLKGEGEYLVIGGDYLVKASYL                                                                                                  0        1\n",
            "PYVVTENCIKCKYQDCVEVCPVDCFYEGENFLVINPDECIDCGVCNPECPAEAIAGKWLEINRKFADLWPNITRKGPALADADDWKDKPDKTGLLSENPGKGTVCH                                                                                                                                                                                                                                                                            0        1\n",
            "Length: 2213, dtype: int64\n",
            "Test Data: \n",
            "seq                                                                                                                                                                                                                                                                                                                                                                                                                                                                                                                                                                                                                                                                                                                                                                                                                       label\n",
            "MAAFEYKALDAKGRHKKGVIEGDNARQVRQRLKEQSLVPMEVVETQVKAARSRSQGFAFKRGISTPDLALITRQLATLVQSGMPLEECLRAVAEQSEKPRIRTMLVAVRAKVTEGYTLSDSLGDYPHVFDELFRSMVAAGEKSGHLDSVLERLADYAENRQKMRSKLQQAMIYPVVLVVFAVGIVAFLLAAVVPKIVGQFVQMGQALPASTQFLLDASDFLQHWGISLLVGLLMLIYLVRWLLTKPDIRLRWDRRVISLPVIGKIARGLNTARFARTLSICTSSAIPILDGMRVAVDVMTNQFVKQQVLAAAENVREGSSLRKALEQTKLFPPMMLHMIASGEQSGELEGMLTRAADNQDNSFESTVNIALGIFTPALIALMAGMVLFIVMATLMPILEMNNLMSR                                                                                                                                                                                                                                                                                                                                                                                                    0        1\n",
            "MRILDYDKVIERILEFIREKGNNGVVIGISGGVDSATVAYLATKALGKEKVLGLIMPYFENKDVEDAKLVAEKLGIGYKVINIKPIVDSFVENLELNLDRKGLGNIMSRTRMIMLYAHANSLGRIVLGTSNRSEFLTGYFTKWGDGASDYAPIINLYKTEVWEIAKRIGVPERIVKKKPSAGLWEGQTDEDELGISYNLLDEILWRMIDLKIGKEEIAKDLGIPLSLVERVEELIKKSEHKRRLPIGPSFEDLIVGP                                                                                                                                                                                                                                                                                                                                                                                                                                                                                                                                                         1        1\n",
            "MRGSLAIYNALKDSNIDFICSVPCANLKNLLKLIEEDKNIINIPATREEEAFGICAGAYLAGKKTAILMQNSGIGNSINAIASLYKTFQIPTLLIISHRGDLKEQIPAQIPMGRWIEKLLDVCEIPTYKPKTPEEAYKLIKYASSYMYKISYPVALLFDALYWEYDLEK                                                                                                                                                                                                                                                                                                                                                                                                                                                                                                                                                                                                                                                 1        1\n",
            "MRHGDISSSNDTVGVAVVNYKMPRLHTAAEVLDNARKIAEMIVGMKQGLPGMDLVVFPEYSLQGIMYDPAEMMETAVAIPGEETEIFSRACRKANVWGVFSLTGERHEEHPRKAPYNTLVLIDNNGEIVQKYRKIIPWCPIEGWYPGGQTYVSEGPKGMKISLIICDDGNYPEIWRDCAMKGAELIVRCQGYMYPAKDQQVMMAKAMAWANNCYVAVANAAGFDGVYSYFGHSAIIGFDGRTLGECGEEEMGIQYAQLSLSQIRDARANDQSQNHLFKILHRGYSGLQASGDGDRGLAECPFEFYRTWVTDAEKARENVERLTRSTTGVAQCPVGRLPYEGLEKEA                                                                                                                                                                                                                                                                                                                                                                                                                                                                0        1\n",
            "MRIAVIGGGSSYTPELVKGLLDISEDVRIDEVIFYDIDEEKQKIVVDFVKRLVKDRFKVLISDTFEGAVVDAKYVIFQFRPGGLKGRENDEGIPLKYGLIGQETTGVGGFSAALRAFPIVEEYVDTVRKTSNATIVNFTNPSGHITEFVRNYLEYEKFIGLCNVPINFIREIAEMFSARLEDVFLKYYGLNHLSFIEKVFVKGEDVTEKVFENLKLKLSNIPDEDFPTWFYDSVRLIVNPYLRYYLMEKKMFKKISTHELRAREVMKIEKELFEKYRTAVEIPEELTKRGGSMYSTAAAHLIRDLETDEGKIHIVNTRNNGSIENLPDDYVLEIPCYVRSGRVHTLSQGKGDHFALSFIHAVKMYERLTIEAYLKRSKKLALKALLSHPLGPDVEDAKDLLEEILEANREYVKLG                                                                                                                                                                                                                                                                                                                                                                                           1        1\n",
            "                                                                                                                                                                                                                                                                                                                                                                                                                                                                                                                                                                                                                                                                                                                                                                                                                                  ..\n",
            "MKFSEKWLRSWANPQVSHDELVARLSMVGLEVDADLPVAGAFSGVVVGEVLSTEQHPDADKLRVCQVSNGSETFQVVCGAPNVRAGLKIPFAMIGAELPDDFKIKKAKLRGVESFGMLCSAKELQISEENAGLLELPADAPVGQDVRTYLELADYTIEVGLTPNRGDCLSLAGLAREVSAIYDVPLAPVAVDAVAAQHDETRPVELAAPAACPRYLGRVIRNVDLSRPTPLWMVERLRRSDIRSIDPVVDVTNYVMIELGQPMHAFDLAEINGGVRVRMAEDGEKLVLLDGQEITLRADTLVIADHQRALAIAGVMGGEHSGVSDSTRDLFLEAAFFDTIALAGKARSYGLHTDSSHRFERGVDSQLARKAMERATRLILDIVGGEPGPIVEQVSEAHLPKVAPITLRAERVTQMLGMPLDAAEIVRLLQALELTVVADGEGQWSVGVPSHRFDISLEVDLIEELARLYGYNRLPVRYPQARLAPNNKPEARAALPLLRRLLVARGYQEAITFSFIDPALFELFDPGTQPLTLANPISADMAAMRSSLWPGLVKALQHNLNRQQSRVRLFESGLRFVGQLEGLKQEAMLAGAICGKRLPEGWANGRDGVDFFDAKADVEAVLASAGALGDFSFVPGEHPALHPGQTARIEREGRLVGYLGALHPELAKKLDLEQPVFLFELLLAEVVDGHLPKFRELSRFPEVRRDLALLVDQDVPAQDILTQIRAAAGEWLTDLRLFDVYHGKGIDPHRKSLAVGLTWQHPSRTLNDDEVNSTTQNIVTSLEERFNATLRK  0        1\n",
            "MKFGWVNVIGDNWEEKKKIVTTALESSIPVVVAEPEDIEKIKELGNIKVASHSLDADIVLVNKNDNIEFLKEAKNLGKETAIYIPIESKEDEEFASEVARFGFVDNIILEGRDWTIIPLENLIADLFHRDVKIVASVNSVDEAKVAYEILEKGTDGVLLNPKNLEDIKELSKLIEEMNKEKVALDVATVTKVEPIGSGDRVCIDTCSLMKIGEGMLIGSYSRALFLVHSETVENPYVATRPFRVNAGPVHAYILCPGNKTKYLSELKAGDKVLIVDKDGNTREAIVGRVKIERRPLVLIEAEYKGDIIRTILQNAETIRLVNEKGEPISVVDLKPGDKVLIKPEEYARHFGMAIKETIIEK                                                                                                                                                                                                                                                                                                                                                                                                                                                 1        1\n",
            "MKEYLTNERIRAKQVRVVGPDGKQLGIMDTREALRLAQEMDLDLVLVGPNADPPVARIMDYSKWRYEQQMAEKEARKKAKRTEVKSIKFRVKIDEHDYQTKLGHIKRFLQEGHKVKVTIMFRGREVAHPELGERILNRVTEDLKDLAVVEMKPEMLGRDMNMLLAPVKVSA                                                                                                                                                                                                                                                                                                                                                                                                                                                                                                                                                                                                                                               1        1\n",
            "MKEKIRKKILLAPEEPGVYIFKNKGVPIYIGKAKRLSNRLRSYLNPQTEKVFRIGEEADELETIVVMNEREAFILEANLIKKYRPKYNVRLKDTDFYPYIRISDDEIPYVEIVKRKLWDGTYFGPYTSVQFVRNLLEILQKIMGFRTCKSDLKRIKRPCFLYHLGRCIGPCIGNIESHEEAIRKLREFLSGNMEEVFDYLKEKMETHSKMLDFENAAKYRDLLLNLSNVLESQGVVFEENINCDVLVHAHDLFVVLRVRNGYLVGKISFEMEGGNVEDFIREYYISGRGDIPKTLILESDLDEMDYSSLGFEYVGPPRSTTEEDLLEKAKKNLENELKMRGLRKEALEELMKLLNMKDFPYRIEGIDISHLQGKYTVASLVVFEDGFPKKGDYRRYKIEQDHPDDYESIRTVVKRRYSKHPLPNLLFVDGGIGQVNAAIEALKEIGKDCPVVGLAKKEETVVFENREIHLPHDHPVLRLLVQIRDETHRFAVSYHRKRREKESLRSVLDNVPGIGPIRKKKLIEHFGSLENIRSASLEEIARVIGSTEIARRVLDIL                                                                                                                                                                                                                                             1        1\n",
            "MYQAKRERMIGKKILGERYVTVSEAAEIMYNRAQIGELSYEQGCALDYLQKFAKLDKEEAKKLVEELISLGIDEKTAVKIADILPEDLDDLRAIYYKRELPENAEEILEIVRKYI                                                                                                                                                                                                                                                                                                                                                                                                                                                                                                                                                                                                                                                                                                       1        1\n",
            "Length: 562, dtype: int64\n",
            "                                            sequence  label\n",
            "0  MQKIKLTGLSLIISGLLMAQAQAAEPVYPDQLRLFSLGQGVCGDKY...      0\n",
            "1  MHKKTLLATLILGLLAGQAVAAPYLPLASDHRNGEVQTASNAWLEV...      0\n",
            "2  MSSQHFQGRFEVEFKYRLSDVDAFTCALAALNPEVMLEDNQEQDSY...      0\n",
            "3  MKKIVVLLGMLLAPWFSSAVQAKGEAGEFDYYAMALSWSPEHCAIK...      0\n",
            "4  MKKKLIYAAVVSALLAGCGGSDDNKGDTSSYLDYLLTGSNAVGPSA...      0\n"
          ]
        }
      ]
    },
    {
      "cell_type": "code",
      "source": [
        "sequences = list(df['sequence'])\n",
        "test_sequences = list(df_test['seq'])"
      ],
      "metadata": {
        "id": "kpT2RyOPOKbR"
      },
      "execution_count": 41,
      "outputs": []
    },
    {
      "cell_type": "code",
      "source": [
        "from sklearn.preprocessing import LabelEncoder\n",
        "# label/integer encoding output variable: (y)\n",
        "le = LabelEncoder()\n",
        "\n",
        "y_train_le = le.fit_transform(df['label'])\n",
        "y_val_le = le.transform(df_test['label'])"
      ],
      "metadata": {
        "id": "RkVQfgxfAaqs"
      },
      "execution_count": 42,
      "outputs": []
    },
    {
      "cell_type": "code",
      "source": [
        "#Y_train = y_train_le # (df['label'])\n",
        "#Y_test = y_val_le #(df_test['label'])\n",
        "\n",
        "Y_train = np.asarray(y_train_le).astype('float32').reshape((-1,1))\n",
        "Y_test = np.asarray(y_val_le).astype('float32').reshape((-1,1))"
      ],
      "metadata": {
        "id": "P3kI-sIE_tAK"
      },
      "execution_count": 43,
      "outputs": []
    },
    {
      "cell_type": "code",
      "source": [
        "sequences = [re.sub(r\"[UZOB]\", \"X\", sequence) for sequence in sequences]\n",
        "test_sequences = [re.sub(r\"[UZOB]\", \"X\", seq) for seq in test_sequences]"
      ],
      "metadata": {
        "id": "Jv3VDzx7aV_l"
      },
      "execution_count": 44,
      "outputs": []
    },
    {
      "cell_type": "code",
      "source": [
        "#counting data\n",
        "trainLength = len(sequences)\n",
        "testLength = len(test_sequences)"
      ],
      "metadata": {
        "id": "IcIQOkFCOVif"
      },
      "execution_count": 45,
      "outputs": []
    },
    {
      "cell_type": "code",
      "source": [
        "trainLength"
      ],
      "metadata": {
        "colab": {
          "base_uri": "https://localhost:8080/"
        },
        "id": "jBMtBnrgOhwb",
        "outputId": "8772e67c-1437-47c4-b330-4e6daac6f941"
      },
      "execution_count": 46,
      "outputs": [
        {
          "output_type": "execute_result",
          "data": {
            "text/plain": [
              "2213"
            ]
          },
          "metadata": {},
          "execution_count": 46
        }
      ]
    },
    {
      "cell_type": "code",
      "source": [
        "# Combine data to make corpus\n",
        "frames = [df, df_test]\n",
        "data = pd.concat(frames)"
      ],
      "metadata": {
        "id": "MofcwmrsO-H_"
      },
      "execution_count": 47,
      "outputs": []
    },
    {
      "cell_type": "code",
      "source": [
        "sequences[0]"
      ],
      "metadata": {
        "colab": {
          "base_uri": "https://localhost:8080/",
          "height": 88
        },
        "id": "PlYAmX14bkRq",
        "outputId": "07a90952-c0c5-4669-feac-d79d51ddf758"
      },
      "execution_count": 48,
      "outputs": [
        {
          "output_type": "execute_result",
          "data": {
            "text/plain": [
              "'MQKIKLTGLSLIISGLLMAQAQAAEPVYPDQLRLFSLGQGVCGDKYRPVNREEAQSVKSNIVGMMGQWQISGLANGWVIMGPGYNGEIKPGTASNTWCYPTNPVTGEIPTLSALDIPDGDEVDVQWRLVHDSANFIKPTSYLAHYLGYAWVGGNHSQYVGEDMDVTRDGDGWVIRGNNDGGCDGYRCGDKTAIKVSNFAYNLDPDSFKHGDVTQSDRQLVKTVVGWAVNDSDTPQSGYDVTLRYDTATNWSKTNTYGLSEKVTTKNKFKWPLVGETELSIEIAANQSWASQNGGSTTTSLSQSVRPTVPARSKIPVKIELYKADISYPYEFKADVSYDLTLSGFLRWGGNAWYTHPDNRPNWNHTFVIGPYKDKASSIRYQWDKRYIPGEVKWWDWNWTIQQNGLSTMQNNLARVLRPVRAGITGDFSAESQFAGNIEIGAPVPLAADSKVRRARSVDGAGQGLRLEIPLDAQELSGLGFNNVSLSVTPAANQ'"
            ],
            "application/vnd.google.colaboratory.intrinsic+json": {
              "type": "string"
            }
          },
          "metadata": {},
          "execution_count": 48
        }
      ]
    },
    {
      "cell_type": "markdown",
      "source": [
        "## Make Corpus and Embedding"
      ],
      "metadata": {
        "id": "giYVmx1ZZ5IL"
      }
    },
    {
      "cell_type": "code",
      "source": [
        "pv = biovec.models.ProtVec(\"combinedfile.fas\", corpus_fname=\"corpusfile_path.txt\", n=3)"
      ],
      "metadata": {
        "colab": {
          "base_uri": "https://localhost:8080/"
        },
        "id": "D4BcA5WYbwAM",
        "outputId": "ff9238a9-fcab-4aed-e72b-bff8960d5bd3"
      },
      "execution_count": 49,
      "outputs": [
        {
          "output_type": "stream",
          "name": "stdout",
          "text": [
            "Generate Corpus file from fasta file...\n"
          ]
        },
        {
          "output_type": "stream",
          "name": "stderr",
          "text": [
            "corpus generation progress: 100%|██████████| 2809/2809 [00:00<00:00, 9455.95it/s]\n"
          ]
        }
      ]
    },
    {
      "cell_type": "code",
      "source": [
        "# The n-gram \"QAT\" should be trained in advance\n",
        "pv[\"QAT\"]"
      ],
      "metadata": {
        "colab": {
          "base_uri": "https://localhost:8080/"
        },
        "id": "3_LBJyt0db_U",
        "outputId": "0e6ff9bf-d6b9-464a-d12f-e0a3e089d256"
      },
      "execution_count": 50,
      "outputs": [
        {
          "output_type": "stream",
          "name": "stderr",
          "text": [
            "/usr/local/lib/python3.7/dist-packages/ipykernel_launcher.py:2: DeprecationWarning: Call to deprecated `__getitem__` (Method will be removed in 4.0.0, use self.wv.__getitem__() instead).\n",
            "  \n"
          ]
        },
        {
          "output_type": "execute_result",
          "data": {
            "text/plain": [
              "array([-0.15370488, -0.14519398,  0.02788352, -0.18664841,  0.09635808,\n",
              "       -0.22519587, -0.06066583, -0.10532901, -0.16729048,  0.07631644,\n",
              "       -0.0400929 , -0.06892094, -0.04702073, -0.12632549, -0.07665813,\n",
              "       -0.20094948,  0.2359131 , -0.2380458 , -0.13702428,  0.17737815,\n",
              "       -0.2223601 , -0.0531445 , -0.10479046, -0.14511943, -0.13869795,\n",
              "        0.04934609,  0.00247155,  0.10144829,  0.09997156,  0.17562124,\n",
              "       -0.05686028, -0.03985419,  0.06772731, -0.22490281, -0.03836979,\n",
              "       -0.10633717,  0.13887578,  0.13536559, -0.35609865,  0.11371496,\n",
              "       -0.13741918,  0.13042098,  0.09224077,  0.08069209,  0.09927772,\n",
              "        0.0962811 ,  0.12888706, -0.12900755, -0.0932648 ,  0.12489805,\n",
              "       -0.07984818,  0.07615655, -0.04111081,  0.1920929 ,  0.0589103 ,\n",
              "       -0.0696136 ,  0.05446039,  0.10970257,  0.14285894,  0.17625421,\n",
              "       -0.08143003,  0.07855506,  0.05675029, -0.01200527, -0.2158084 ,\n",
              "        0.11390392, -0.05338158, -0.20689772, -0.01967844,  0.03540096,\n",
              "        0.00439166,  0.37862775, -0.04394313, -0.181484  ,  0.05649225,\n",
              "       -0.30706057,  0.17935884, -0.06275512,  0.05442729,  0.09524944,\n",
              "       -0.14554116,  0.12448425,  0.22429204,  0.13415597,  0.0206125 ,\n",
              "        0.07852863,  0.00284477, -0.06456451, -0.01142556,  0.05591225,\n",
              "        0.17521384, -0.10556509,  0.07720352,  0.0445298 ,  0.11841434,\n",
              "        0.00676749,  0.02340341, -0.32561386, -0.11137025, -0.3442366 ],\n",
              "      dtype=float32)"
            ]
          },
          "metadata": {},
          "execution_count": 50
        }
      ]
    },
    {
      "cell_type": "code",
      "source": [
        "#pv[\"XAE\"]"
      ],
      "metadata": {
        "id": "Bj2SbVZxg3Hy"
      },
      "execution_count": 51,
      "outputs": []
    },
    {
      "cell_type": "code",
      "source": [
        "# convert whole amino acid sequence into vector\n",
        "embedding = pv.to_vecs(sequences[0])\n",
        "embedding"
      ],
      "metadata": {
        "id": "KsKZOBRHZ8aQ",
        "colab": {
          "base_uri": "https://localhost:8080/"
        },
        "outputId": "55ccea84-7b6d-4f17-b0a1-979c821aa41c"
      },
      "execution_count": 52,
      "outputs": [
        {
          "output_type": "execute_result",
          "data": {
            "text/plain": [
              "[array([-17.295984  ,  -8.099474  ,  13.203935  , -25.42146   ,\n",
              "         11.630549  , -15.307919  , -11.061287  ,  -2.7339673 ,\n",
              "        -18.394558  ,  20.022623  ,  -8.760674  ,   9.819722  ,\n",
              "          4.8156004 , -23.814802  ,   2.1966429 , -12.588316  ,\n",
              "         -2.3093657 , -20.537737  ,  -0.8288776 ,   7.1265903 ,\n",
              "         -2.1942196 , -14.407363  , -20.683939  ,  -4.6508613 ,\n",
              "         -7.2234983 ,  23.543812  ,   7.211703  ,  13.500005  ,\n",
              "          0.96801436,  35.822742  , -34.161114  , -24.537214  ,\n",
              "          8.792674  , -18.235273  ,  -4.533734  ,  -6.687404  ,\n",
              "         -6.080976  ,  32.494793  , -26.89561   ,  26.341488  ,\n",
              "        -26.927534  ,  23.256296  ,   8.873469  ,   9.021716  ,\n",
              "         21.098587  ,  12.786798  ,  21.966654  , -23.73523   ,\n",
              "        -13.939093  ,  13.859229  , -11.884193  , -24.322826  ,\n",
              "         -3.2116706 ,  34.577026  ,   9.877475  , -10.787097  ,\n",
              "         -9.978598  ,  30.986692  ,  14.447629  ,  -5.6457844 ,\n",
              "          2.9415865 ,  11.163474  ,  -2.3824506 ,  -7.7486978 ,\n",
              "        -14.9909    ,   9.909879  ,  -3.1566465 , -15.539745  ,\n",
              "          1.2216108 ,  28.107107  ,   6.5134254 ,  39.474144  ,\n",
              "        -14.425824  , -23.733662  ,   1.5293242 , -13.544051  ,\n",
              "         -0.44871396, -13.670853  ,  -0.8784298 ,  10.579376  ,\n",
              "        -13.406551  ,  17.791395  ,  10.9578085 ,   7.0742936 ,\n",
              "         10.560505  ,   9.133451  ,  17.885618  ,   0.81819683,\n",
              "         14.840573  , -10.038021  ,  13.8236    ,  -3.9258418 ,\n",
              "         -2.6314373 ,   1.8618846 , -10.505148  ,   4.603582  ,\n",
              "        -14.306699  , -13.997763  ,  -0.5828621 , -12.238318  ],\n",
              "       dtype=float32),\n",
              " array([-15.229495  ,  -9.317173  ,  13.751073  , -22.382587  ,\n",
              "          7.5760922 , -13.305656  , -11.914614  ,  -6.3446174 ,\n",
              "        -19.104101  ,  21.411135  , -12.264192  ,  13.79321   ,\n",
              "          4.98641   , -22.174963  ,   4.0432205 , -12.703777  ,\n",
              "         -1.1975871 , -20.459267  ,  -1.0952566 ,   8.073637  ,\n",
              "         -2.9925199 , -14.826272  , -20.44448   ,  -1.6291102 ,\n",
              "         -7.9579473 ,  18.402853  ,   7.7419276 ,  12.680707  ,\n",
              "         -1.7523938 ,  35.212627  , -32.308567  , -21.88266   ,\n",
              "          9.487232  , -19.274431  ,  -9.841047  ,  -8.783166  ,\n",
              "         -3.399269  ,  33.787678  , -27.31001   ,  23.688524  ,\n",
              "        -28.470787  ,  29.381695  ,   5.3544035 ,   5.1068826 ,\n",
              "         26.037895  ,  11.700847  ,  24.25179   , -23.141981  ,\n",
              "        -13.185222  ,  14.036247  , -13.826803  , -22.467762  ,\n",
              "         -3.359236  ,  34.8466    ,   8.845484  ,  -7.7816787 ,\n",
              "        -12.212403  ,  30.080814  ,  15.651051  ,  -2.4258873 ,\n",
              "         -0.07884191,  15.45261   ,  -4.2676997 , -10.16182   ,\n",
              "        -18.726822  ,  10.860897  ,  -1.8298268 , -15.833338  ,\n",
              "         -1.0164692 ,  29.46271   ,  10.495941  ,  38.99443   ,\n",
              "        -12.16452   , -21.924358  ,   1.2076579 , -13.122035  ,\n",
              "         -1.2260617 , -14.149472  ,  -3.119328  ,   5.7222657 ,\n",
              "        -13.358108  ,  21.747326  ,  13.061572  ,   2.6713243 ,\n",
              "         10.208457  ,   6.136789  ,  19.789433  ,   2.3853521 ,\n",
              "         17.020315  ,  -7.0898633 ,  13.509183  ,  -7.803988  ,\n",
              "         -3.9957252 ,   1.6142777 ,  -8.051367  ,   6.586746  ,\n",
              "        -10.416906  , -13.329557  ,   2.7004519 ,  -7.60772   ],\n",
              "       dtype=float32),\n",
              " array([-11.650979  ,  -6.810116  ,   9.80374   , -27.429947  ,\n",
              "          7.657153  , -11.355112  ,  -9.305029  ,  -5.980111  ,\n",
              "        -19.461613  ,  22.407642  ,  -8.813564  ,  11.618963  ,\n",
              "          7.893263  , -21.11903   ,   3.1499388 , -11.6603775 ,\n",
              "         -2.9552057 , -20.67913   ,  -3.223841  ,  10.965552  ,\n",
              "         -0.87203413, -16.86241   , -16.299408  ,  -0.64348996,\n",
              "         -9.864413  ,  24.43076   ,   9.084883  ,  14.839972  ,\n",
              "         -0.6673094 ,  39.91865   , -33.49875   , -21.093887  ,\n",
              "         10.95316   , -13.134203  ,  -9.2944    , -11.190909  ,\n",
              "         -4.997434  ,  29.129337  , -27.511787  ,  25.894281  ,\n",
              "        -26.539598  ,  22.567375  ,   5.15829   ,   4.389139  ,\n",
              "         20.399118  ,  10.360231  ,  23.568275  , -25.066387  ,\n",
              "        -12.017664  ,   9.377621  , -11.571281  , -24.291094  ,\n",
              "         -0.5770869 ,  35.367397  ,  11.982408  ,  -5.7757945 ,\n",
              "         -6.778248  ,  29.842087  ,  17.173094  ,  -1.0269548 ,\n",
              "          0.22237097,  15.538439  ,  -2.8969626 , -10.806703  ,\n",
              "        -14.580011  ,  14.155732  ,  -3.0547183 , -15.957027  ,\n",
              "          6.530367  ,  29.572088  ,   8.659554  ,  37.299194  ,\n",
              "        -11.887455  , -23.21334   ,   3.6548498 , -16.417004  ,\n",
              "         -1.0805343 , -13.97794   ,  -1.5857215 ,  12.756121  ,\n",
              "        -15.125707  ,  20.967356  ,  12.118586  ,   4.5264187 ,\n",
              "         13.66785   ,   7.2837653 ,  15.978932  ,   2.0195    ,\n",
              "         17.013813  ,  -3.970435  ,   9.375102  ,  -7.3554034 ,\n",
              "         -2.6339283 ,   2.0659602 ,  -7.249171  ,   3.7630398 ,\n",
              "         -9.568419  , -14.699594  ,   3.295035  , -11.858898  ],\n",
              "       dtype=float32)]"
            ]
          },
          "metadata": {},
          "execution_count": 52
        }
      ]
    },
    {
      "cell_type": "code",
      "source": [
        "features = [] \n",
        "for seq_num in range(len(sequences)):\n",
        "    embedding = pv.to_vecs(sequences[seq_num])\n",
        "    features.append(embedding)"
      ],
      "metadata": {
        "id": "Wzkw3EyoecOI"
      },
      "execution_count": 53,
      "outputs": []
    },
    {
      "cell_type": "code",
      "source": [
        "test_features = [] \n",
        "for seq_num1 in range(len(test_sequences)):\n",
        "    embedding1 = pv.to_vecs(sequences[seq_num1])\n",
        "    test_features.append(embedding1)"
      ],
      "metadata": {
        "id": "HU38MHpKekK-"
      },
      "execution_count": 54,
      "outputs": []
    },
    {
      "cell_type": "code",
      "source": [
        "max_length = 100\n",
        "features = pad_sequences(features, maxlen=max_length, padding='post', truncating='post')\n",
        "test_features = pad_sequences(test_features, maxlen=max_length, padding='post', truncating='post')"
      ],
      "metadata": {
        "id": "luwoDCb1LvZO"
      },
      "execution_count": 55,
      "outputs": []
    },
    {
      "cell_type": "code",
      "source": [
        "type(features)"
      ],
      "metadata": {
        "id": "eFX4MjZwdpIJ",
        "colab": {
          "base_uri": "https://localhost:8080/"
        },
        "outputId": "5193107f-b2c9-43ca-9990-3ccea2b5828e"
      },
      "execution_count": 56,
      "outputs": [
        {
          "output_type": "execute_result",
          "data": {
            "text/plain": [
              "numpy.ndarray"
            ]
          },
          "metadata": {},
          "execution_count": 56
        }
      ]
    },
    {
      "cell_type": "code",
      "source": [
        "features"
      ],
      "metadata": {
        "id": "ZpxDU1lJfGWN",
        "colab": {
          "base_uri": "https://localhost:8080/"
        },
        "outputId": "78fc8038-f23a-4c59-876c-fd3a8dcfa8d2"
      },
      "execution_count": 57,
      "outputs": [
        {
          "output_type": "execute_result",
          "data": {
            "text/plain": [
              "array([[[-17,  -8,  13, ..., -13,   0, -12],\n",
              "        [-15,  -9,  13, ..., -13,   2,  -7],\n",
              "        [-11,  -6,   9, ..., -14,   3, -11],\n",
              "        ...,\n",
              "        [  0,   0,   0, ...,   0,   0,   0],\n",
              "        [  0,   0,   0, ...,   0,   0,   0],\n",
              "        [  0,   0,   0, ...,   0,   0,   0]],\n",
              "\n",
              "       [[-12,  -9,  10, ..., -14,   1, -12],\n",
              "        [-12,  -9,  11, ..., -13,   0, -11],\n",
              "        [-14, -12,  11, ..., -13,   0, -10],\n",
              "        ...,\n",
              "        [  0,   0,   0, ...,   0,   0,   0],\n",
              "        [  0,   0,   0, ...,   0,   0,   0],\n",
              "        [  0,   0,   0, ...,   0,   0,   0]],\n",
              "\n",
              "       [[ -6,  -5,   3, ...,  -6,   0,  -5],\n",
              "        [ -4,  -4,   4, ...,  -6,   1,  -6],\n",
              "        [ -7,  -2,   2, ...,  -6,   0,  -5],\n",
              "        ...,\n",
              "        [  0,   0,   0, ...,   0,   0,   0],\n",
              "        [  0,   0,   0, ...,   0,   0,   0],\n",
              "        [  0,   0,   0, ...,   0,   0,   0]],\n",
              "\n",
              "       ...,\n",
              "\n",
              "       [[ -5,  -2,   2, ...,  -3,   2,  -5],\n",
              "        [ -5,  -3,   3, ...,  -4,   1,  -6],\n",
              "        [ -4,  -2,   2, ...,  -2,   0,  -5],\n",
              "        ...,\n",
              "        [  0,   0,   0, ...,   0,   0,   0],\n",
              "        [  0,   0,   0, ...,   0,   0,   0],\n",
              "        [  0,   0,   0, ...,   0,   0,   0]],\n",
              "\n",
              "       [[-13,  -5,  10, ..., -10,   3, -13],\n",
              "        [-12,  -9,   6, ..., -11,   1, -15],\n",
              "        [-13,  -9,  13, ..., -11,  -1, -13],\n",
              "        ...,\n",
              "        [  0,   0,   0, ...,   0,   0,   0],\n",
              "        [  0,   0,   0, ...,   0,   0,   0],\n",
              "        [  0,   0,   0, ...,   0,   0,   0]],\n",
              "\n",
              "       [[-14,  -8,   2, ..., -15,   5, -16],\n",
              "        [-13,  -6,   4, ..., -11,   3, -15],\n",
              "        [-15,  -9,   6, ..., -13,   2, -16],\n",
              "        ...,\n",
              "        [  0,   0,   0, ...,   0,   0,   0],\n",
              "        [  0,   0,   0, ...,   0,   0,   0],\n",
              "        [  0,   0,   0, ...,   0,   0,   0]]], dtype=int32)"
            ]
          },
          "metadata": {},
          "execution_count": 57
        }
      ]
    },
    {
      "cell_type": "code",
      "source": [
        "features[3][0].shape"
      ],
      "metadata": {
        "id": "Lam-sC2gd6FQ",
        "colab": {
          "base_uri": "https://localhost:8080/"
        },
        "outputId": "fc362ae8-f3dc-4373-f49d-5843df15868c"
      },
      "execution_count": 58,
      "outputs": [
        {
          "output_type": "execute_result",
          "data": {
            "text/plain": [
              "(100,)"
            ]
          },
          "metadata": {},
          "execution_count": 58
        }
      ]
    },
    {
      "cell_type": "code",
      "source": [
        "test_sequences[3][0].shape"
      ],
      "metadata": {
        "id": "S6jrnUQpB8fh",
        "colab": {
          "base_uri": "https://localhost:8080/",
          "height": 166
        },
        "outputId": "ce655d44-191b-41e5-8f9a-ecfa546f1098"
      },
      "execution_count": 59,
      "outputs": [
        {
          "output_type": "error",
          "ename": "AttributeError",
          "evalue": "ignored",
          "traceback": [
            "\u001b[0;31m---------------------------------------------------------------------------\u001b[0m",
            "\u001b[0;31mAttributeError\u001b[0m                            Traceback (most recent call last)",
            "\u001b[0;32m<ipython-input-59-b4149d4f7b46>\u001b[0m in \u001b[0;36m<module>\u001b[0;34m()\u001b[0m\n\u001b[0;32m----> 1\u001b[0;31m \u001b[0mtest_sequences\u001b[0m\u001b[0;34m[\u001b[0m\u001b[0;36m3\u001b[0m\u001b[0;34m]\u001b[0m\u001b[0;34m[\u001b[0m\u001b[0;36m0\u001b[0m\u001b[0;34m]\u001b[0m\u001b[0;34m.\u001b[0m\u001b[0mshape\u001b[0m\u001b[0;34m\u001b[0m\u001b[0;34m\u001b[0m\u001b[0m\n\u001b[0m",
            "\u001b[0;31mAttributeError\u001b[0m: 'str' object has no attribute 'shape'"
          ]
        }
      ]
    },
    {
      "cell_type": "code",
      "source": [
        "seq_num"
      ],
      "metadata": {
        "id": "2O3EJcdMfLEM",
        "colab": {
          "base_uri": "https://localhost:8080/"
        },
        "outputId": "62d7f383-1503-4a07-8ccf-9e446fc22628"
      },
      "execution_count": 60,
      "outputs": [
        {
          "output_type": "execute_result",
          "data": {
            "text/plain": [
              "2212"
            ]
          },
          "metadata": {},
          "execution_count": 60
        }
      ]
    },
    {
      "cell_type": "code",
      "source": [
        "len(features[1])"
      ],
      "metadata": {
        "id": "pCC4F0a8fLPJ",
        "colab": {
          "base_uri": "https://localhost:8080/"
        },
        "outputId": "aa6ee53d-3ebf-437f-f488-5e6b7cf2a917"
      },
      "execution_count": 61,
      "outputs": [
        {
          "output_type": "execute_result",
          "data": {
            "text/plain": [
              "100"
            ]
          },
          "metadata": {},
          "execution_count": 61
        }
      ]
    },
    {
      "cell_type": "code",
      "source": [
        "len(test_sequences[1])"
      ],
      "metadata": {
        "id": "dGrtYX8WCGHS",
        "colab": {
          "base_uri": "https://localhost:8080/"
        },
        "outputId": "701b256c-c1df-4ba3-be0d-fe48a17ae1db"
      },
      "execution_count": 62,
      "outputs": [
        {
          "output_type": "execute_result",
          "data": {
            "text/plain": [
              "690"
            ]
          },
          "metadata": {},
          "execution_count": 62
        }
      ]
    },
    {
      "cell_type": "code",
      "source": [
        "len(features)"
      ],
      "metadata": {
        "id": "qJgKElsdFRvx",
        "colab": {
          "base_uri": "https://localhost:8080/"
        },
        "outputId": "7a592dac-656e-4f7d-c95a-eb345f37d2d4"
      },
      "execution_count": 63,
      "outputs": [
        {
          "output_type": "execute_result",
          "data": {
            "text/plain": [
              "2213"
            ]
          },
          "metadata": {},
          "execution_count": 63
        }
      ]
    },
    {
      "cell_type": "code",
      "source": [
        "len(test_sequences)"
      ],
      "metadata": {
        "id": "P1tL-zpwCH-T",
        "colab": {
          "base_uri": "https://localhost:8080/"
        },
        "outputId": "f85908ba-31ff-478d-b06f-d4d0fcad2dc5"
      },
      "execution_count": 64,
      "outputs": [
        {
          "output_type": "execute_result",
          "data": {
            "text/plain": [
              "562"
            ]
          },
          "metadata": {},
          "execution_count": 64
        }
      ]
    },
    {
      "cell_type": "code",
      "source": [
        "len(Y_train)"
      ],
      "metadata": {
        "id": "a7vVVoUvGkP0"
      },
      "execution_count": null,
      "outputs": []
    },
    {
      "cell_type": "code",
      "source": [
        "len(Y_test)"
      ],
      "metadata": {
        "id": "kGRwIYvcCJul"
      },
      "execution_count": null,
      "outputs": []
    },
    {
      "cell_type": "markdown",
      "source": [
        "## Utility Function"
      ],
      "metadata": {
        "id": "8rTS-xuYaVHh"
      }
    },
    {
      "cell_type": "code",
      "source": [
        "# Utility function: plot model's accuracy and loss\n",
        "\n",
        "# https://realpython.com/python-keras-text-classification/\n",
        "plt.style.use('ggplot')\n",
        "\n",
        "def plot_history(history):\n",
        "  acc = history.history['accuracy']\n",
        "  val_acc = history.history['val_accuracy']\n",
        "  loss = history.history['loss']\n",
        "  val_loss = history.history['val_loss']\n",
        "  x = range(1, len(acc) + 1)\n",
        "\n",
        "  plt.figure(figsize=(12, 5))\n",
        "  plt.subplot(1, 2, 1)\n",
        "  plt.plot(x, acc, 'b', label='Training acc')\n",
        "  plt.plot(x, val_acc, 'r', label='Validation acc')\n",
        "  plt.title('Training and validation accuracy')\n",
        "  plt.legend()\n",
        "\n",
        "  plt.subplot(1, 2, 2)\n",
        "  plt.plot(x, loss, 'b', label='Training loss')\n",
        "  plt.plot(x, val_loss, 'r', label='Validation loss')\n",
        "  plt.title('Training and validation loss')\n",
        "  plt.legend()"
      ],
      "metadata": {
        "id": "CtAQRg6V-suv"
      },
      "execution_count": 68,
      "outputs": []
    },
    {
      "cell_type": "code",
      "source": [
        "# Utility function: Display model score(Loss & Accuracy) across all sets.\n",
        "\n",
        "def display_model_score(model, train, val, test, batch_size):\n",
        "\n",
        "  train_score = model.evaluate(train[0], train[1], batch_size=batch_size, verbose=1)\n",
        "  print('Train loss: ', train_score[0])\n",
        "  print('Train accuracy: ', train_score[1])\n",
        "  print('-'*70)\n",
        "\n",
        "  val_score = model.evaluate(val[0], val[1], batch_size=batch_size, verbose=1)\n",
        "  print('Val loss: ', val_score[0])\n",
        "  print('Val accuracy: ', val_score[1])\n",
        "  print('-'*70)\n",
        "  \n",
        "  test_score = model.evaluate(test[0], test[1], batch_size=batch_size, verbose=1)\n",
        "  print('Test loss: ', test_score[0])\n",
        "  print('Test accuracy: ', test_score[1])"
      ],
      "metadata": {
        "id": "ilDwXV0m-w0Z"
      },
      "execution_count": 69,
      "outputs": []
    },
    {
      "cell_type": "markdown",
      "source": [
        "## Define Model"
      ],
      "metadata": {
        "id": "Q4FQe7i6PYYe"
      }
    },
    {
      "cell_type": "code",
      "source": [
        "import matplotlib.pyplot as plt\n",
        "from keras.callbacks import EarlyStopping"
      ],
      "metadata": {
        "id": "dRr7NI79-z06"
      },
      "execution_count": 70,
      "outputs": []
    },
    {
      "cell_type": "markdown",
      "source": [
        "### MLP"
      ],
      "metadata": {
        "id": "EQHyZfmWaZCb"
      }
    },
    {
      "cell_type": "code",
      "source": [
        " model = Sequential([        \n",
        "        Dense(trainLength, activation='relu', name='hidden_1', input_dim=100),\n",
        "        Dropout(0.25),\n",
        "        Dense(int(trainLength / 2), activation='relu', name='hidden_2'),\n",
        "        Dropout(0.25),\n",
        "         Dense(int(trainLength / 2), activation='relu', name='hidden_3'),\n",
        "        Dropout(0.25),\n",
        "        Dense(int(trainLength / 2), activation='relu', name='outer'),\n",
        "        Dropout(0.25),\n",
        "        #Flatten(),\n",
        "        Dense(1, activation='sigmoid'),\n",
        "    ])"
      ],
      "metadata": {
        "id": "QLsBtb76ThRv"
      },
      "execution_count": 71,
      "outputs": []
    },
    {
      "cell_type": "code",
      "source": [
        "model.compile(\n",
        "        optimizer=tf.keras.optimizers.Adam(learning_rate=1e-5),\n",
        "        loss='binary_crossentropy',\n",
        "        metrics=['accuracy'],\n",
        "    )"
      ],
      "metadata": {
        "id": "4IWQvV46PYmQ"
      },
      "execution_count": 72,
      "outputs": []
    },
    {
      "cell_type": "code",
      "source": [
        "# Early Stopping\n",
        "es = EarlyStopping(monitor='val_loss', patience=3, verbose=1)"
      ],
      "metadata": {
        "id": "3apcd-kB_807"
      },
      "execution_count": 73,
      "outputs": []
    },
    {
      "cell_type": "code",
      "source": [
        " history = model.fit(\n",
        "     features, Y_train,\n",
        "     epochs=50, batch_size=256,\n",
        "     validation_data=(test_features, Y_test),\n",
        "     callbacks=[es]\n",
        "     )"
      ],
      "metadata": {
        "colab": {
          "base_uri": "https://localhost:8080/"
        },
        "id": "mp2tKean-l4N",
        "outputId": "69fbd0b9-f026-4f58-81bb-ad5de73aaea2"
      },
      "execution_count": 74,
      "outputs": [
        {
          "output_type": "stream",
          "name": "stdout",
          "text": [
            "Epoch 1/50\n",
            "WARNING:tensorflow:Model was constructed with shape (None, 100) for input KerasTensor(type_spec=TensorSpec(shape=(None, 100), dtype=tf.float32, name='hidden_1_input'), name='hidden_1_input', description=\"created by layer 'hidden_1_input'\"), but it was called on an input with incompatible shape (None, 100, 100).\n",
            "WARNING:tensorflow:Model was constructed with shape (None, 100) for input KerasTensor(type_spec=TensorSpec(shape=(None, 100), dtype=tf.float32, name='hidden_1_input'), name='hidden_1_input', description=\"created by layer 'hidden_1_input'\"), but it was called on an input with incompatible shape (None, 100, 100).\n",
            "9/9 [==============================] - ETA: 0s - loss: 0.7036 - accuracy: 0.5135 WARNING:tensorflow:Model was constructed with shape (None, 100) for input KerasTensor(type_spec=TensorSpec(shape=(None, 100), dtype=tf.float32, name='hidden_1_input'), name='hidden_1_input', description=\"created by layer 'hidden_1_input'\"), but it was called on an input with incompatible shape (None, 100, 100).\n",
            "9/9 [==============================] - 107s 12s/step - loss: 0.7036 - accuracy: 0.5135 - val_loss: 0.6936 - val_accuracy: 0.5141\n",
            "Epoch 2/50\n",
            "9/9 [==============================] - 104s 12s/step - loss: 0.7012 - accuracy: 0.5143 - val_loss: 0.6963 - val_accuracy: 0.5139\n",
            "Epoch 3/50\n",
            "9/9 [==============================] - 104s 12s/step - loss: 0.6989 - accuracy: 0.5152 - val_loss: 0.6983 - val_accuracy: 0.5134\n",
            "Epoch 4/50\n",
            "9/9 [==============================] - 116s 13s/step - loss: 0.6968 - accuracy: 0.5164 - val_loss: 0.7002 - val_accuracy: 0.5133\n",
            "Epoch 4: early stopping\n"
          ]
        }
      ]
    },
    {
      "cell_type": "code",
      "source": [
        "plot_history(history)"
      ],
      "metadata": {
        "colab": {
          "base_uri": "https://localhost:8080/",
          "height": 337
        },
        "id": "J6x2-V17TUgD",
        "outputId": "6946c427-785b-43cd-a33d-f8e28581165d"
      },
      "execution_count": 75,
      "outputs": [
        {
          "output_type": "display_data",
          "data": {
            "text/plain": [
              "<Figure size 864x360 with 2 Axes>"
            ],
            "image/png": "[encoded data removed]"
          },
          "metadata": {}
        }
      ]
    },
    {
      "cell_type": "code",
      "source": [
        "display_model_score(model,\n",
        "     [features, Y_train],\n",
        "     [test_features, Y_test],\n",
        "     [test_features, Y_test],\n",
        "     256)"
      ],
      "metadata": {
        "colab": {
          "base_uri": "https://localhost:8080/"
        },
        "id": "Sm9uAYteTXr5",
        "outputId": "880b31f7-eff6-471b-fe18-9917dc9d7ca8"
      },
      "execution_count": 76,
      "outputs": [
        {
          "output_type": "stream",
          "name": "stdout",
          "text": [
            "9/9 [==============================] - 30s 3s/step - loss: 0.6872 - accuracy: 0.5218\n",
            "Train loss:  0.6872207522392273\n",
            "Train accuracy:  0.5218075513839722\n",
            "----------------------------------------------------------------------\n",
            "3/3 [==============================] - 7s 2s/step - loss: 0.7002 - accuracy: 0.5133\n",
            "Val loss:  0.700187087059021\n",
            "Val accuracy:  0.5133273601531982\n",
            "----------------------------------------------------------------------\n",
            "3/3 [==============================] - 7s 2s/step - loss: 0.7002 - accuracy: 0.5133\n",
            "Test loss:  0.700187087059021\n",
            "Test accuracy:  0.5133273601531982\n"
          ]
        }
      ]
    },
    {
      "cell_type": "code",
      "source": [
        "y_pred = model.predict(test_features)"
      ],
      "metadata": {
        "colab": {
          "base_uri": "https://localhost:8080/"
        },
        "id": "hFUpH3xsZuJx",
        "outputId": "043ba698-c75b-4622-d744-87a0ab4fddc1"
      },
      "execution_count": 77,
      "outputs": [
        {
          "output_type": "stream",
          "name": "stdout",
          "text": [
            "WARNING:tensorflow:Model was constructed with shape (None, 100) for input KerasTensor(type_spec=TensorSpec(shape=(None, 100), dtype=tf.float32, name='hidden_1_input'), name='hidden_1_input', description=\"created by layer 'hidden_1_input'\"), but it was called on an input with incompatible shape (None, 100, 100).\n"
          ]
        }
      ]
    },
    {
      "cell_type": "code",
      "source": [
        "y_pred = np.reshape(y_pred,(len(y_pred),)).astype(int)"
      ],
      "metadata": {
        "colab": {
          "base_uri": "https://localhost:8080/",
          "height": 346
        },
        "id": "yX8s-2Y6ZuPJ",
        "outputId": "2da2111a-df7e-4e5f-a139-c0dbb48c358f"
      },
      "execution_count": 79,
      "outputs": [
        {
          "output_type": "error",
          "ename": "ValueError",
          "evalue": "ignored",
          "traceback": [
            "\u001b[0;31m---------------------------------------------------------------------------\u001b[0m",
            "\u001b[0;31mValueError\u001b[0m                                Traceback (most recent call last)",
            "\u001b[0;32m<ipython-input-79-ca7e77262dff>\u001b[0m in \u001b[0;36m<module>\u001b[0;34m()\u001b[0m\n\u001b[0;32m----> 1\u001b[0;31m \u001b[0my_pred\u001b[0m \u001b[0;34m=\u001b[0m \u001b[0mnp\u001b[0m\u001b[0;34m.\u001b[0m\u001b[0mreshape\u001b[0m\u001b[0;34m(\u001b[0m\u001b[0my_pred\u001b[0m\u001b[0;34m,\u001b[0m\u001b[0;34m(\u001b[0m\u001b[0mlen\u001b[0m\u001b[0;34m(\u001b[0m\u001b[0my_pred\u001b[0m\u001b[0;34m)\u001b[0m\u001b[0;34m,\u001b[0m\u001b[0;34m)\u001b[0m\u001b[0;34m)\u001b[0m\u001b[0;34m.\u001b[0m\u001b[0mastype\u001b[0m\u001b[0;34m(\u001b[0m\u001b[0mint\u001b[0m\u001b[0;34m)\u001b[0m\u001b[0;34m\u001b[0m\u001b[0;34m\u001b[0m\u001b[0m\n\u001b[0m",
            "\u001b[0;32m<__array_function__ internals>\u001b[0m in \u001b[0;36mreshape\u001b[0;34m(*args, **kwargs)\u001b[0m\n",
            "\u001b[0;32m/usr/local/lib/python3.7/dist-packages/numpy/core/fromnumeric.py\u001b[0m in \u001b[0;36mreshape\u001b[0;34m(a, newshape, order)\u001b[0m\n\u001b[1;32m    296\u001b[0m            [5, 6]])\n\u001b[1;32m    297\u001b[0m     \"\"\"\n\u001b[0;32m--> 298\u001b[0;31m     \u001b[0;32mreturn\u001b[0m \u001b[0m_wrapfunc\u001b[0m\u001b[0;34m(\u001b[0m\u001b[0ma\u001b[0m\u001b[0;34m,\u001b[0m \u001b[0;34m'reshape'\u001b[0m\u001b[0;34m,\u001b[0m \u001b[0mnewshape\u001b[0m\u001b[0;34m,\u001b[0m \u001b[0morder\u001b[0m\u001b[0;34m=\u001b[0m\u001b[0morder\u001b[0m\u001b[0;34m)\u001b[0m\u001b[0;34m\u001b[0m\u001b[0;34m\u001b[0m\u001b[0m\n\u001b[0m\u001b[1;32m    299\u001b[0m \u001b[0;34m\u001b[0m\u001b[0m\n\u001b[1;32m    300\u001b[0m \u001b[0;34m\u001b[0m\u001b[0m\n",
            "\u001b[0;32m/usr/local/lib/python3.7/dist-packages/numpy/core/fromnumeric.py\u001b[0m in \u001b[0;36m_wrapfunc\u001b[0;34m(obj, method, *args, **kwds)\u001b[0m\n\u001b[1;32m     55\u001b[0m \u001b[0;34m\u001b[0m\u001b[0m\n\u001b[1;32m     56\u001b[0m     \u001b[0;32mtry\u001b[0m\u001b[0;34m:\u001b[0m\u001b[0;34m\u001b[0m\u001b[0;34m\u001b[0m\u001b[0m\n\u001b[0;32m---> 57\u001b[0;31m         \u001b[0;32mreturn\u001b[0m \u001b[0mbound\u001b[0m\u001b[0;34m(\u001b[0m\u001b[0;34m*\u001b[0m\u001b[0margs\u001b[0m\u001b[0;34m,\u001b[0m \u001b[0;34m**\u001b[0m\u001b[0mkwds\u001b[0m\u001b[0;34m)\u001b[0m\u001b[0;34m\u001b[0m\u001b[0;34m\u001b[0m\u001b[0m\n\u001b[0m\u001b[1;32m     58\u001b[0m     \u001b[0;32mexcept\u001b[0m \u001b[0mTypeError\u001b[0m\u001b[0;34m:\u001b[0m\u001b[0;34m\u001b[0m\u001b[0;34m\u001b[0m\u001b[0m\n\u001b[1;32m     59\u001b[0m         \u001b[0;31m# A TypeError occurs if the object does have such a method in its\u001b[0m\u001b[0;34m\u001b[0m\u001b[0;34m\u001b[0m\u001b[0;34m\u001b[0m\u001b[0m\n",
            "\u001b[0;31mValueError\u001b[0m: cannot reshape array of size 56200 into shape (562,)"
          ]
        }
      ]
    },
    {
      "cell_type": "code",
      "source": [
        "print(classification_report(Y_test, y_pred))"
      ],
      "metadata": {
        "colab": {
          "base_uri": "https://localhost:8080/",
          "height": 311
        },
        "id": "iupUghA8ZuZJ",
        "outputId": "457629be-8d6c-40b9-84d8-cd666827497d"
      },
      "execution_count": 80,
      "outputs": [
        {
          "output_type": "error",
          "ename": "ValueError",
          "evalue": "ignored",
          "traceback": [
            "\u001b[0;31m---------------------------------------------------------------------------\u001b[0m",
            "\u001b[0;31mValueError\u001b[0m                                Traceback (most recent call last)",
            "\u001b[0;32m<ipython-input-80-a07ac09a30fe>\u001b[0m in \u001b[0;36m<module>\u001b[0;34m()\u001b[0m\n\u001b[0;32m----> 1\u001b[0;31m \u001b[0mprint\u001b[0m\u001b[0;34m(\u001b[0m\u001b[0mclassification_report\u001b[0m\u001b[0;34m(\u001b[0m\u001b[0mY_test\u001b[0m\u001b[0;34m,\u001b[0m \u001b[0my_pred\u001b[0m\u001b[0;34m)\u001b[0m\u001b[0;34m)\u001b[0m\u001b[0;34m\u001b[0m\u001b[0;34m\u001b[0m\u001b[0m\n\u001b[0m",
            "\u001b[0;32m/usr/local/lib/python3.7/dist-packages/sklearn/metrics/_classification.py\u001b[0m in \u001b[0;36mclassification_report\u001b[0;34m(y_true, y_pred, labels, target_names, sample_weight, digits, output_dict, zero_division)\u001b[0m\n\u001b[1;32m   2108\u001b[0m     \"\"\"\n\u001b[1;32m   2109\u001b[0m \u001b[0;34m\u001b[0m\u001b[0m\n\u001b[0;32m-> 2110\u001b[0;31m     \u001b[0my_type\u001b[0m\u001b[0;34m,\u001b[0m \u001b[0my_true\u001b[0m\u001b[0;34m,\u001b[0m \u001b[0my_pred\u001b[0m \u001b[0;34m=\u001b[0m \u001b[0m_check_targets\u001b[0m\u001b[0;34m(\u001b[0m\u001b[0my_true\u001b[0m\u001b[0;34m,\u001b[0m \u001b[0my_pred\u001b[0m\u001b[0;34m)\u001b[0m\u001b[0;34m\u001b[0m\u001b[0;34m\u001b[0m\u001b[0m\n\u001b[0m\u001b[1;32m   2111\u001b[0m \u001b[0;34m\u001b[0m\u001b[0m\n\u001b[1;32m   2112\u001b[0m     \u001b[0;32mif\u001b[0m \u001b[0mlabels\u001b[0m \u001b[0;32mis\u001b[0m \u001b[0;32mNone\u001b[0m\u001b[0;34m:\u001b[0m\u001b[0;34m\u001b[0m\u001b[0;34m\u001b[0m\u001b[0m\n",
            "\u001b[0;32m/usr/local/lib/python3.7/dist-packages/sklearn/metrics/_classification.py\u001b[0m in \u001b[0;36m_check_targets\u001b[0;34m(y_true, y_pred)\u001b[0m\n\u001b[1;32m     93\u001b[0m         raise ValueError(\n\u001b[1;32m     94\u001b[0m             \"Classification metrics can't handle a mix of {0} and {1} targets\".format(\n\u001b[0;32m---> 95\u001b[0;31m                 \u001b[0mtype_true\u001b[0m\u001b[0;34m,\u001b[0m \u001b[0mtype_pred\u001b[0m\u001b[0;34m\u001b[0m\u001b[0;34m\u001b[0m\u001b[0m\n\u001b[0m\u001b[1;32m     96\u001b[0m             )\n\u001b[1;32m     97\u001b[0m         )\n",
            "\u001b[0;31mValueError\u001b[0m: Classification metrics can't handle a mix of binary and unknown targets"
          ]
        }
      ]
    },
    {
      "cell_type": "markdown",
      "metadata": {
        "id": "a4SFWeVUW1E-"
      },
      "source": [
        "### Bi-LSTM"
      ]
    },
    {
      "cell_type": "code",
      "source": [
        "features.shape"
      ],
      "metadata": {
        "colab": {
          "base_uri": "https://localhost:8080/"
        },
        "id": "H7CNlgoPafcG",
        "outputId": "72d6957a-568e-4317-b9a7-1a32d669ad41"
      },
      "execution_count": 81,
      "outputs": [
        {
          "output_type": "execute_result",
          "data": {
            "text/plain": [
              "(2213, 100, 100)"
            ]
          },
          "metadata": {},
          "execution_count": 81
        }
      ]
    },
    {
      "cell_type": "code",
      "execution_count": 82,
      "metadata": {
        "colab": {
          "base_uri": "https://localhost:8080/"
        },
        "id": "6W5M_DjIWsUQ",
        "outputId": "bf9a511b-152f-4d8a-97b9-f3da887c2750"
      },
      "outputs": [
        {
          "output_type": "stream",
          "name": "stdout",
          "text": [
            "Model: \"model\"\n",
            "_________________________________________________________________\n",
            " Layer (type)                Output Shape              Param #   \n",
            "=================================================================\n",
            " input_1 (InputLayer)        [(None, 100)]             0         \n",
            "                                                                 \n",
            " embedding (Embedding)       (None, 100, 128)          2688      \n",
            "                                                                 \n",
            " bidirectional (Bidirectiona  (None, 128)              99328     \n",
            " l)                                                              \n",
            "                                                                 \n",
            " dropout_3 (Dropout)         (None, 128)               0         \n",
            "                                                                 \n",
            " dense_1 (Dense)             (None, 1)                 129       \n",
            "                                                                 \n",
            "=================================================================\n",
            "Total params: 102,145\n",
            "Trainable params: 102,145\n",
            "Non-trainable params: 0\n",
            "_________________________________________________________________\n"
          ]
        }
      ],
      "source": [
        "x_input = Input(shape=(100,))\n",
        "emb = Embedding(21, 128, input_length=max_length)(x_input)\n",
        "bi_rnn = Bidirectional(CuDNNLSTM(64, kernel_regularizer=l2(0.01), recurrent_regularizer=l2(0.01), bias_regularizer=l2(0.01)))(emb)\n",
        "x = Dropout(0.3)(bi_rnn)\n",
        "\n",
        "# softmax classifier\n",
        "x_output = Dense(1, activation='sigmoid')(x)\n",
        "\n",
        "model1 = Model(inputs=x_input, outputs=x_output)\n",
        "model1.compile(optimizer='adam', loss='binary_crossentropy', metrics=['accuracy'])\n",
        "\n",
        "model1.summary()"
      ]
    },
    {
      "cell_type": "code",
      "execution_count": 84,
      "metadata": {
        "colab": {
          "base_uri": "https://localhost:8080/"
        },
        "id": "ABts0ebuwNUD",
        "outputId": "fd67589a-f7c3-4470-abdb-cfe6a24cf8ee"
      },
      "outputs": [
        {
          "output_type": "execute_result",
          "data": {
            "text/plain": [
              "(2213, 1)"
            ]
          },
          "metadata": {},
          "execution_count": 84
        }
      ],
      "source": [
        "Y_train.shape"
      ]
    },
    {
      "cell_type": "code",
      "source": [
        "# Early Stopping\n",
        "es = EarlyStopping(monitor='val_loss', patience=3, verbose=1)"
      ],
      "metadata": {
        "id": "hJIteRs5aYXM"
      },
      "execution_count": 85,
      "outputs": []
    },
    {
      "cell_type": "code",
      "execution_count": 86,
      "metadata": {
        "colab": {
          "base_uri": "https://localhost:8080/",
          "height": 800
        },
        "id": "hYw-pqNwXBaU",
        "outputId": "d4631203-497e-4ecc-e138-1b0b8b4f05b6"
      },
      "outputs": [
        {
          "output_type": "stream",
          "name": "stdout",
          "text": [
            "Epoch 1/50\n",
            "WARNING:tensorflow:Model was constructed with shape (None, 100) for input KerasTensor(type_spec=TensorSpec(shape=(None, 100), dtype=tf.float32, name='input_1'), name='input_1', description=\"created by layer 'input_1'\"), but it was called on an input with incompatible shape (None, 100, 100).\n"
          ]
        },
        {
          "output_type": "error",
          "ename": "ValueError",
          "evalue": "ignored",
          "traceback": [
            "\u001b[0;31m---------------------------------------------------------------------------\u001b[0m",
            "\u001b[0;31mValueError\u001b[0m                                Traceback (most recent call last)",
            "\u001b[0;32m<ipython-input-86-deb8f472f869>\u001b[0m in \u001b[0;36m<module>\u001b[0;34m()\u001b[0m\n\u001b[1;32m      3\u001b[0m      \u001b[0mepochs\u001b[0m\u001b[0;34m=\u001b[0m\u001b[0;36m50\u001b[0m\u001b[0;34m,\u001b[0m \u001b[0mbatch_size\u001b[0m\u001b[0;34m=\u001b[0m\u001b[0;36m256\u001b[0m\u001b[0;34m,\u001b[0m\u001b[0;34m\u001b[0m\u001b[0;34m\u001b[0m\u001b[0m\n\u001b[1;32m      4\u001b[0m      \u001b[0mvalidation_data\u001b[0m\u001b[0;34m=\u001b[0m\u001b[0;34m(\u001b[0m\u001b[0mtest_features\u001b[0m\u001b[0;34m,\u001b[0m \u001b[0mY_test\u001b[0m\u001b[0;34m)\u001b[0m\u001b[0;34m,\u001b[0m\u001b[0;34m\u001b[0m\u001b[0;34m\u001b[0m\u001b[0m\n\u001b[0;32m----> 5\u001b[0;31m      \u001b[0mcallbacks\u001b[0m\u001b[0;34m=\u001b[0m\u001b[0;34m[\u001b[0m\u001b[0mes\u001b[0m\u001b[0;34m]\u001b[0m\u001b[0;34m\u001b[0m\u001b[0;34m\u001b[0m\u001b[0m\n\u001b[0m\u001b[1;32m      6\u001b[0m      )\n",
            "\u001b[0;32m/usr/local/lib/python3.7/dist-packages/keras/utils/traceback_utils.py\u001b[0m in \u001b[0;36merror_handler\u001b[0;34m(*args, **kwargs)\u001b[0m\n\u001b[1;32m     65\u001b[0m     \u001b[0;32mexcept\u001b[0m \u001b[0mException\u001b[0m \u001b[0;32mas\u001b[0m \u001b[0me\u001b[0m\u001b[0;34m:\u001b[0m  \u001b[0;31m# pylint: disable=broad-except\u001b[0m\u001b[0;34m\u001b[0m\u001b[0;34m\u001b[0m\u001b[0m\n\u001b[1;32m     66\u001b[0m       \u001b[0mfiltered_tb\u001b[0m \u001b[0;34m=\u001b[0m \u001b[0m_process_traceback_frames\u001b[0m\u001b[0;34m(\u001b[0m\u001b[0me\u001b[0m\u001b[0;34m.\u001b[0m\u001b[0m__traceback__\u001b[0m\u001b[0;34m)\u001b[0m\u001b[0;34m\u001b[0m\u001b[0;34m\u001b[0m\u001b[0m\n\u001b[0;32m---> 67\u001b[0;31m       \u001b[0;32mraise\u001b[0m \u001b[0me\u001b[0m\u001b[0;34m.\u001b[0m\u001b[0mwith_traceback\u001b[0m\u001b[0;34m(\u001b[0m\u001b[0mfiltered_tb\u001b[0m\u001b[0;34m)\u001b[0m \u001b[0;32mfrom\u001b[0m \u001b[0;32mNone\u001b[0m\u001b[0;34m\u001b[0m\u001b[0;34m\u001b[0m\u001b[0m\n\u001b[0m\u001b[1;32m     68\u001b[0m     \u001b[0;32mfinally\u001b[0m\u001b[0;34m:\u001b[0m\u001b[0;34m\u001b[0m\u001b[0;34m\u001b[0m\u001b[0m\n\u001b[1;32m     69\u001b[0m       \u001b[0;32mdel\u001b[0m \u001b[0mfiltered_tb\u001b[0m\u001b[0;34m\u001b[0m\u001b[0;34m\u001b[0m\u001b[0m\n",
            "\u001b[0;32m/usr/local/lib/python3.7/dist-packages/tensorflow/python/framework/func_graph.py\u001b[0m in \u001b[0;36mautograph_handler\u001b[0;34m(*args, **kwargs)\u001b[0m\n\u001b[1;32m   1145\u001b[0m           \u001b[0;32mexcept\u001b[0m \u001b[0mException\u001b[0m \u001b[0;32mas\u001b[0m \u001b[0me\u001b[0m\u001b[0;34m:\u001b[0m  \u001b[0;31m# pylint:disable=broad-except\u001b[0m\u001b[0;34m\u001b[0m\u001b[0;34m\u001b[0m\u001b[0m\n\u001b[1;32m   1146\u001b[0m             \u001b[0;32mif\u001b[0m \u001b[0mhasattr\u001b[0m\u001b[0;34m(\u001b[0m\u001b[0me\u001b[0m\u001b[0;34m,\u001b[0m \u001b[0;34m\"ag_error_metadata\"\u001b[0m\u001b[0;34m)\u001b[0m\u001b[0;34m:\u001b[0m\u001b[0;34m\u001b[0m\u001b[0;34m\u001b[0m\u001b[0m\n\u001b[0;32m-> 1147\u001b[0;31m               \u001b[0;32mraise\u001b[0m \u001b[0me\u001b[0m\u001b[0;34m.\u001b[0m\u001b[0mag_error_metadata\u001b[0m\u001b[0;34m.\u001b[0m\u001b[0mto_exception\u001b[0m\u001b[0;34m(\u001b[0m\u001b[0me\u001b[0m\u001b[0;34m)\u001b[0m\u001b[0;34m\u001b[0m\u001b[0;34m\u001b[0m\u001b[0m\n\u001b[0m\u001b[1;32m   1148\u001b[0m             \u001b[0;32melse\u001b[0m\u001b[0;34m:\u001b[0m\u001b[0;34m\u001b[0m\u001b[0;34m\u001b[0m\u001b[0m\n\u001b[1;32m   1149\u001b[0m               \u001b[0;32mraise\u001b[0m\u001b[0;34m\u001b[0m\u001b[0;34m\u001b[0m\u001b[0m\n",
            "\u001b[0;31mValueError\u001b[0m: in user code:\n\n    File \"/usr/local/lib/python3.7/dist-packages/keras/engine/training.py\", line 1021, in train_function  *\n        return step_function(self, iterator)\n    File \"/usr/local/lib/python3.7/dist-packages/keras/engine/training.py\", line 1010, in step_function  **\n        outputs = model.distribute_strategy.run(run_step, args=(data,))\n    File \"/usr/local/lib/python3.7/dist-packages/keras/engine/training.py\", line 1000, in run_step  **\n        outputs = model.train_step(data)\n    File \"/usr/local/lib/python3.7/dist-packages/keras/engine/training.py\", line 859, in train_step\n        y_pred = self(x, training=True)\n    File \"/usr/local/lib/python3.7/dist-packages/keras/utils/traceback_utils.py\", line 67, in error_handler\n        raise e.with_traceback(filtered_tb) from None\n    File \"/usr/local/lib/python3.7/dist-packages/keras/engine/input_spec.py\", line 214, in assert_input_compatibility\n        raise ValueError(f'Input {input_index} of layer \"{layer_name}\" '\n\n    ValueError: Exception encountered when calling layer \"model\" (type Functional).\n    \n    Input 0 of layer \"bidirectional\" is incompatible with the layer: expected ndim=3, found ndim=4. Full shape received: (None, 100, 100, 128)\n    \n    Call arguments received:\n      • inputs=tf.Tensor(shape=(None, 100, 100), dtype=int32)\n      • training=True\n      • mask=None\n"
          ]
        }
      ],
      "source": [
        "history = model1.fit(\n",
        "     features, Y_train,\n",
        "     epochs=50, batch_size=256,\n",
        "     validation_data=(test_features, Y_test),\n",
        "     callbacks=[es]\n",
        "     )"
      ]
    },
    {
      "cell_type": "code",
      "execution_count": null,
      "metadata": {
        "id": "dOGUc877XB-y"
      },
      "outputs": [],
      "source": [
        "# saving model weights.\n",
        "model1.save_weights('/content/Extremophiles/BLSTM1.h5')"
      ]
    },
    {
      "cell_type": "code",
      "execution_count": null,
      "metadata": {
        "id": "23w-YML6XOye"
      },
      "outputs": [],
      "source": [
        "plot_history(history1)"
      ]
    },
    {
      "cell_type": "code",
      "execution_count": null,
      "metadata": {
        "id": "0hWXO2RgXRS2"
      },
      "outputs": [],
      "source": [
        "display_model_score(model1,\n",
        "     [features, Y_train],\n",
        "     [test_features, Y_test],\n",
        "     [test_features, Y_test],\n",
        "     256)"
      ]
    },
    {
      "cell_type": "code",
      "source": [
        "y_pred = model.predict(test_features)"
      ],
      "metadata": {
        "id": "Rg2lBzj2l-_4"
      },
      "execution_count": null,
      "outputs": []
    },
    {
      "cell_type": "code",
      "source": [
        "y_pred = np.reshape(y_pred,(len(y_pred),)).astype(int)"
      ],
      "metadata": {
        "id": "vOH9EgKPl_B9"
      },
      "execution_count": null,
      "outputs": []
    },
    {
      "cell_type": "code",
      "source": [
        "print(classification_report(Y_test, y_pred))"
      ],
      "metadata": {
        "id": "P5zmI7PLl_Fg"
      },
      "execution_count": null,
      "outputs": []
    }
  ]
}